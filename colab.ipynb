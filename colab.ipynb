{
  "nbformat": 4,
  "nbformat_minor": 0,
  "metadata": {
    "colab": {
      "name": "epub-to-mp3",
      "private_outputs": true,
      "provenance": [],
      "collapsed_sections": []
    },
    "kernelspec": {
      "name": "python3",
      "display_name": "Python 3"
    },
    "language_info": {
      "name": "python"
    },
    "accelerator": "GPU"
  },
  "cells": [
    {
      "cell_type": "markdown",
      "metadata": {
        "id": "dB6qcJvQ0Rr3"
      },
      "source": [
        "# epub-to-mp3\n",
        "This notebook is designed for use with Google Colab.\n",
        "\n",
        "1.   Go to `Runtime > Change Runtime Type > Hardware Accelerator` and select `GPU`.\n",
        "2.   Access the Files section of the left sidebar and upload your epub.\n",
        "3.   Run the first code cell to setup the environment.\n",
        "4.   Edit the `file_name` variable in the second code cell to match the name of your epub.\n",
        "5.   Run the second code cell to produce the audiobook, which is accessible in the Files siderbar. The mp3 should take the same name as the epub. Double click to download.\n",
        "\n",
        "Keep in mind that Colab sessions last around 12 hours. It is expected that the estimated progress bar time will decrease while running because the sentences are converted to audio in order of decreasing length; shorter sentences usually have shorter audio, requiring less compute than longer sentences.\n",
        "\n"
      ]
    },
    {
      "cell_type": "code",
      "metadata": {
        "id": "chskyvsV08r5"
      },
      "source": [
        "!git clone --recurse-submodules https://github.com/adamviola/epub-to-mp3\n",
        "!apt install ffmpeg\n",
        "!pip install -r epub-to-mp3/requirements.txt"
      ],
      "execution_count": null,
      "outputs": []
    },
    {
      "cell_type": "code",
      "metadata": {
        "id": "WPlr8CAw2CEp"
      },
      "source": [
        "file_name = \"book.epub\" # Change this string to match the file name of your epub!\n",
        "!python ./epub-to-mp3/main.py $file_name -o ."
      ],
      "execution_count": null,
      "outputs": []
    }
  ]
}