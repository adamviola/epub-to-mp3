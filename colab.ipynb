{
  "nbformat": 4,
  "nbformat_minor": 0,
  "metadata": {
    "colab": {
      "name": "epub-to-mp3",
      "provenance": []
    },
    "kernelspec": {
      "name": "python3",
      "display_name": "Python 3"
    },
    "language_info": {
      "name": "python"
    },
    "accelerator": "GPU"
  },
  "cells": [
    {
      "cell_type": "markdown",
      "metadata": {
        "id": "dB6qcJvQ0Rr3"
      },
      "source": [
        "# epub-to-mp3\n",
        "This notebook is designed for use with Google Colab.\n",
        "\n",
        "1.   Go to Runtime > Change Runtime Type > Hardware Accelerator and select GPU.\n",
        "2.   Access the Files section of the left sidebar and upload your epub as \"book.epub\"\n",
        "3.   Run the first code cell to setup the environment.\n",
        "4.   Run the second code cell to produce the audiobook. The book is available at \"epub-to-mp3/output/book.mp3\" in the Files sidebar. Double click to download.\n",
        "\n",
        "Keep in mind that Colab sessions last around 12 hours. It is expected that the estimated total time will decrease while running because the sentences are converted to audio in order of decreasing length; shorter sentences usually have shorter audio, requiring less compute than longer sentences.\n",
        "\n"
      ]
    },
    {
      "cell_type": "code",
      "metadata": {
        "id": "chskyvsV08r5"
      },
      "source": [
        "!git clone --recurse-submodules https://github.com/adamviola/epub-to-mp3\n",
        "!apt install ffmpeg\n",
        "!pip install -r epub-to-mp3/requirements.txt"
      ],
      "execution_count": null,
      "outputs": []
    },
    {
      "cell_type": "code",
      "metadata": {
        "id": "WPlr8CAw2CEp"
      },
      "source": [
        "!cd epub-to-mp3; python main.py ../book.epub"
      ],
      "execution_count": null,
      "outputs": []
    }
  ]
}